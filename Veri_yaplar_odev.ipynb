{
 "cells": [
  {
   "cell_type": "markdown",
   "id": "032d81b2",
   "metadata": {},
   "source": [
    "**Ödev-1** \n",
    "x = 3 ----> floata çevirelim. Çevirdikten sonra beri tipinide yazdıralım.\n",
    "\n",
    "y = 4.5 -----> integere çevirelim. Çevirdikten sonra beri tipinide yazdıralım.\n",
    "\n",
    "z = \"8\" -----> integera çevirelim. Çevirdikten sonra beri tipinide yazdıralım.\n",
    "\n",
    "a = \"12\" -----> floata çevirelim. Çevirdikten sonra beri tipinide yazdıralım.\n",
    "\n",
    "b = \"46.8\" ------> integera çevirelim. Çevirdikten sonra beri tipinide yazdıralım."
   ]
  },
  {
   "cell_type": "code",
   "execution_count": 5,
   "id": "4c876ef6-dbf9-49d7-af0e-1b4929f62b68",
   "metadata": {},
   "outputs": [
    {
     "data": {
      "text/plain": [
       "int"
      ]
     },
     "execution_count": 5,
     "metadata": {},
     "output_type": "execute_result"
    }
   ],
   "source": [
    "x=3\n",
    "type(x)"
   ]
  },
  {
   "cell_type": "code",
   "execution_count": 3,
   "id": "ce25b874-271d-4a5b-985c-78a1e5f74021",
   "metadata": {},
   "outputs": [
    {
     "data": {
      "text/plain": [
       "float"
      ]
     },
     "execution_count": 3,
     "metadata": {},
     "output_type": "execute_result"
    }
   ],
   "source": [
    "x=float(x)\n",
    "type(x)"
   ]
  },
  {
   "cell_type": "code",
   "execution_count": 6,
   "id": "132ec7b6-82a3-42c5-b2d4-5d3a15b18b46",
   "metadata": {},
   "outputs": [
    {
     "data": {
      "text/plain": [
       "float"
      ]
     },
     "execution_count": 6,
     "metadata": {},
     "output_type": "execute_result"
    }
   ],
   "source": [
    "y=4.5\n",
    "type(y)"
   ]
  },
  {
   "cell_type": "code",
   "execution_count": 7,
   "id": "d99e9c1e-1d89-4760-93fd-7cf5535116cc",
   "metadata": {},
   "outputs": [
    {
     "data": {
      "text/plain": [
       "int"
      ]
     },
     "execution_count": 7,
     "metadata": {},
     "output_type": "execute_result"
    }
   ],
   "source": [
    "y=int(y)\n",
    "type(y)"
   ]
  },
  {
   "cell_type": "code",
   "execution_count": 9,
   "id": "224a8c5f-033f-4580-9228-1b719a0ba805",
   "metadata": {},
   "outputs": [
    {
     "data": {
      "text/plain": [
       "str"
      ]
     },
     "execution_count": 9,
     "metadata": {},
     "output_type": "execute_result"
    }
   ],
   "source": [
    "z=\"8\"\n",
    "type(z)"
   ]
  },
  {
   "cell_type": "code",
   "execution_count": 10,
   "id": "b2ba9207-0e64-4596-be66-9d8948d2ab64",
   "metadata": {},
   "outputs": [
    {
     "data": {
      "text/plain": [
       "int"
      ]
     },
     "execution_count": 10,
     "metadata": {},
     "output_type": "execute_result"
    }
   ],
   "source": [
    "z=int(z)\n",
    "type(z)"
   ]
  },
  {
   "cell_type": "code",
   "execution_count": 11,
   "id": "1e7ba7de-9a6d-48ae-a3e1-9ab48b78c3d8",
   "metadata": {},
   "outputs": [
    {
     "data": {
      "text/plain": [
       "str"
      ]
     },
     "execution_count": 11,
     "metadata": {},
     "output_type": "execute_result"
    }
   ],
   "source": [
    "a=\"12\"\n",
    "type(a)"
   ]
  },
  {
   "cell_type": "code",
   "execution_count": 12,
   "id": "6ea8a444-004e-4b17-bf16-2c4ff96b2533",
   "metadata": {},
   "outputs": [
    {
     "data": {
      "text/plain": [
       "float"
      ]
     },
     "execution_count": 12,
     "metadata": {},
     "output_type": "execute_result"
    }
   ],
   "source": [
    "a=float(a)\n",
    "type(a)"
   ]
  },
  {
   "cell_type": "code",
   "execution_count": 13,
   "id": "5a1d8a95-ed5a-46af-a8ec-1d569af4fd8e",
   "metadata": {},
   "outputs": [
    {
     "data": {
      "text/plain": [
       "str"
      ]
     },
     "execution_count": 13,
     "metadata": {},
     "output_type": "execute_result"
    }
   ],
   "source": [
    "b=\"46.8\"\n",
    "type(b)"
   ]
  },
  {
   "cell_type": "code",
   "execution_count": 15,
   "id": "2b953cb0-0694-4530-a4a8-56aab5a385ca",
   "metadata": {},
   "outputs": [
    {
     "data": {
      "text/plain": [
       "int"
      ]
     },
     "execution_count": 15,
     "metadata": {},
     "output_type": "execute_result"
    }
   ],
   "source": [
    "b=int(float(b))\n",
    "type(b)"
   ]
  },
  {
   "cell_type": "markdown",
   "id": "95509718",
   "metadata": {},
   "source": [
    "# 2 \n",
    "İsimlerden oluşan üç değişkene yaş değerleri atanır. Belirlenen üç değişken birbiriyle karşılaştırma operatörleri ile karşılaştırılır. Bu karşılaştırmalara mantıksal operatörler de eklenir."
   ]
  },
  {
   "cell_type": "code",
   "execution_count": 16,
   "id": "50f77b4f",
   "metadata": {},
   "outputs": [],
   "source": [
    "aslı=21\n",
    "sude=35\n",
    "buse=13"
   ]
  },
  {
   "cell_type": "code",
   "execution_count": 17,
   "id": "164dfb22-29df-4635-9799-b3f0214486f7",
   "metadata": {},
   "outputs": [
    {
     "data": {
      "text/plain": [
       "True"
      ]
     },
     "execution_count": 17,
     "metadata": {},
     "output_type": "execute_result"
    }
   ],
   "source": [
    "aslı<sude"
   ]
  },
  {
   "cell_type": "code",
   "execution_count": 18,
   "id": "76500359-b6c6-4d3a-83ad-4c3a95910a38",
   "metadata": {},
   "outputs": [
    {
     "data": {
      "text/plain": [
       "False"
      ]
     },
     "execution_count": 18,
     "metadata": {},
     "output_type": "execute_result"
    }
   ],
   "source": [
    "buse>sude"
   ]
  },
  {
   "cell_type": "code",
   "execution_count": 19,
   "id": "1a109e17-063b-4858-9478-cef8b91f2dc5",
   "metadata": {},
   "outputs": [
    {
     "data": {
      "text/plain": [
       "False"
      ]
     },
     "execution_count": 19,
     "metadata": {},
     "output_type": "execute_result"
    }
   ],
   "source": [
    "aslı==sude"
   ]
  },
  {
   "cell_type": "code",
   "execution_count": 20,
   "id": "abaf2aea-1e25-48a4-bb24-3f1cc49d59ed",
   "metadata": {},
   "outputs": [
    {
     "data": {
      "text/plain": [
       "False"
      ]
     },
     "execution_count": 20,
     "metadata": {},
     "output_type": "execute_result"
    }
   ],
   "source": [
    "aslı>sude or sude<buse"
   ]
  },
  {
   "cell_type": "code",
   "execution_count": 21,
   "id": "6bb7cba0-ed00-43bd-a791-35ca3609b447",
   "metadata": {},
   "outputs": [
    {
     "data": {
      "text/plain": [
       "True"
      ]
     },
     "execution_count": 21,
     "metadata": {},
     "output_type": "execute_result"
    }
   ],
   "source": [
    "aslı<sude or buse<sude"
   ]
  },
  {
   "cell_type": "code",
   "execution_count": 22,
   "id": "8efd7c45-f210-4302-ba89-c0dae2354db6",
   "metadata": {},
   "outputs": [
    {
     "data": {
      "text/plain": [
       "False"
      ]
     },
     "execution_count": 22,
     "metadata": {},
     "output_type": "execute_result"
    }
   ],
   "source": [
    "aslı<sude and sude<buse"
   ]
  },
  {
   "cell_type": "code",
   "execution_count": 23,
   "id": "a69873a6-0fca-4b02-928f-e47198d783c2",
   "metadata": {},
   "outputs": [
    {
     "data": {
      "text/plain": [
       "True"
      ]
     },
     "execution_count": 23,
     "metadata": {},
     "output_type": "execute_result"
    }
   ],
   "source": [
    "aslı>buse and sude>buse"
   ]
  },
  {
   "cell_type": "code",
   "execution_count": 24,
   "id": "8bd9dd87-a3dc-4209-ba04-58a36af0324d",
   "metadata": {},
   "outputs": [
    {
     "data": {
      "text/plain": [
       "False"
      ]
     },
     "execution_count": 24,
     "metadata": {},
     "output_type": "execute_result"
    }
   ],
   "source": [
    "not(aslı<sude)"
   ]
  },
  {
   "cell_type": "markdown",
   "id": "a1a0eb92",
   "metadata": {},
   "source": [
    "# 3\n",
    "Kullanıcıdan iki değer girmesini istenir. Girilen değerlerin toplama, çıkarma, çarpma, bölme sonuçlarını yazdırılır."
   ]
  },
  {
   "cell_type": "code",
   "execution_count": 28,
   "id": "5808cd31-372a-419f-8974-55bf5e315934",
   "metadata": {},
   "outputs": [
    {
     "name": "stdin",
     "output_type": "stream",
     "text": [
      "1. sayıyı giriniz 12\n",
      "2. sayıyı giriniz 6\n"
     ]
    },
    {
     "name": "stdout",
     "output_type": "stream",
     "text": [
      "Toplama 18\n",
      "Çıkarma 6\n",
      "Çarpma 72\n",
      "Bölme 2.0\n"
     ]
    }
   ],
   "source": [
    "sayi1=int(input(\"1. sayıyı giriniz\"))\n",
    "sayi2=int(input(\"2. sayıyı giriniz\"))\n",
    "toplama=sayi1+sayi2\n",
    "cıkarma=sayi1-sayi2\n",
    "carpma=sayi1*sayi2\n",
    "bölme=sayi1/sayi2\n",
    "print(\"Toplama\",toplama)\n",
    "print(\"Çıkarma\",cıkarma)\n",
    "print(\"Çarpma\",carpma)\n",
    "print(\"Bölme\",bölme)"
   ]
  },
  {
   "cell_type": "markdown",
   "id": "060b0bea",
   "metadata": {},
   "source": [
    "# 4\n",
    "Kullanıcıdan isim, yaş, şehir ve meslek bilgilerini istenir ve cevaplarını yazdırılır."
   ]
  },
  {
   "cell_type": "code",
   "execution_count": 29,
   "id": "6f5dea59",
   "metadata": {},
   "outputs": [
    {
     "name": "stdin",
     "output_type": "stream",
     "text": [
      "Adınızı giriniz: aslı\n",
      "Yaşınızı giriniz: 21\n",
      "Yaşadığınız şehri giriniz: kocaeli\n",
      "Mesleğinizi giriniz: öğrenci\n"
     ]
    },
    {
     "name": "stdout",
     "output_type": "stream",
     "text": [
      "İsim: aslı\n",
      "Yaş: 21\n",
      "Şehir: kocaeli\n",
      "Meslek: öğrenci\n"
     ]
    }
   ],
   "source": [
    "isim=input(\"Adınızı giriniz:\")\n",
    "yas=input(\"Yaşınızı giriniz:\")\n",
    "sehir=input(\"Yaşadığınız şehri giriniz:\")\n",
    "meslek=input(\"Mesleğinizi giriniz:\")\n",
    "print(\"İsim:\",isim)\n",
    "print(\"Yaş:\",yas)\n",
    "print(\"Şehir:\",sehir)\n",
    "print(\"Meslek:\",meslek)"
   ]
  },
  {
   "cell_type": "markdown",
   "id": "55e1a34e",
   "metadata": {},
   "source": [
    "# 5\n",
    "\"Hi-Kod Veri Bilimi Atölyesi\" ifadesini bir değişkene tanımlanır.\n",
    "\n",
    "\n",
    " 1. İfadedeki her bir kelimeyi (\"Hi-Kod\", \"Veri\", \"Bilimi\", \"Atölyesi\") değişken içinden seçilir. \n",
    " 2. İfadeyi hepsini büyük harf olacak hale çevrilir. (\"HI-KOD VERİ BİLİMİ ATÖLYESİ\") \n",
    " 3. İfadeyi hepsini büyük harf olacak hale çevrilir.(\"hi-kod veri bilimi atölyesi\") \n",
    "\n",
    "\"0123456789\" ifadesindeki yalnızca çift sayıları ve yalnızca tek sayıları seçilir. (\"02468\", \"13579\")"
   ]
  },
  {
   "cell_type": "code",
   "execution_count": 30,
   "id": "0fc1bc40",
   "metadata": {},
   "outputs": [],
   "source": [
    "atolye=\"Hi-Kod Veri Bilimi Atölyesi\""
   ]
  },
  {
   "cell_type": "code",
   "execution_count": 32,
   "id": "ad6351af-730e-4004-b432-cc5d15baa61f",
   "metadata": {},
   "outputs": [
    {
     "name": "stdout",
     "output_type": "stream",
     "text": [
      "Hi-Kod\n"
     ]
    }
   ],
   "source": [
    "print(atolye[0:6])"
   ]
  },
  {
   "cell_type": "code",
   "execution_count": 33,
   "id": "168a087d-ac7d-4bce-9ed8-f80f48e3c154",
   "metadata": {},
   "outputs": [
    {
     "name": "stdout",
     "output_type": "stream",
     "text": [
      "Veri\n"
     ]
    }
   ],
   "source": [
    "print(atolye[7:11])"
   ]
  },
  {
   "cell_type": "code",
   "execution_count": 36,
   "id": "7b1b945e-a16a-4368-a2fc-4033108036b4",
   "metadata": {},
   "outputs": [
    {
     "name": "stdout",
     "output_type": "stream",
     "text": [
      "Bilimi\n"
     ]
    }
   ],
   "source": [
    "print(atolye[12:18])"
   ]
  },
  {
   "cell_type": "code",
   "execution_count": 37,
   "id": "6b5fb3bb-2e9e-49c2-a76b-240bfca10214",
   "metadata": {},
   "outputs": [
    {
     "name": "stdout",
     "output_type": "stream",
     "text": [
      "Atölyesi\n"
     ]
    }
   ],
   "source": [
    "print(atolye[19:])"
   ]
  },
  {
   "cell_type": "code",
   "execution_count": 38,
   "id": "dfbd2ea3-c31f-42b3-8c1b-f927e464da71",
   "metadata": {},
   "outputs": [
    {
     "data": {
      "text/plain": [
       "'HI-KOD VERI BILIMI ATÖLYESI'"
      ]
     },
     "execution_count": 38,
     "metadata": {},
     "output_type": "execute_result"
    }
   ],
   "source": [
    "atolye.upper()"
   ]
  },
  {
   "cell_type": "code",
   "execution_count": 39,
   "id": "e517b3df-c057-43cf-bb9d-143f00b544ae",
   "metadata": {},
   "outputs": [
    {
     "data": {
      "text/plain": [
       "'hi-kod veri bilimi atölyesi'"
      ]
     },
     "execution_count": 39,
     "metadata": {},
     "output_type": "execute_result"
    }
   ],
   "source": [
    "atolye.lower()"
   ]
  },
  {
   "cell_type": "code",
   "execution_count": 40,
   "id": "0cc49392-9f64-4a95-afbe-778217006273",
   "metadata": {},
   "outputs": [],
   "source": [
    "sayilar=\"0123456789\""
   ]
  },
  {
   "cell_type": "code",
   "execution_count": 41,
   "id": "d99089a0-6192-451e-9c23-f96b6c7183a1",
   "metadata": {},
   "outputs": [
    {
     "data": {
      "text/plain": [
       "'02468'"
      ]
     },
     "execution_count": 41,
     "metadata": {},
     "output_type": "execute_result"
    }
   ],
   "source": [
    "sayilar[0:9:2]"
   ]
  },
  {
   "cell_type": "code",
   "execution_count": 42,
   "id": "9a804a0a-72bf-43ae-8f26-68bf153a65a6",
   "metadata": {},
   "outputs": [
    {
     "data": {
      "text/plain": [
       "'13579'"
      ]
     },
     "execution_count": 42,
     "metadata": {},
     "output_type": "execute_result"
    }
   ],
   "source": [
    "sayilar[1::2]"
   ]
  }
 ],
 "metadata": {
  "kernelspec": {
   "display_name": "Python 3 (ipykernel)",
   "language": "python",
   "name": "python3"
  },
  "language_info": {
   "codemirror_mode": {
    "name": "ipython",
    "version": 3
   },
   "file_extension": ".py",
   "mimetype": "text/x-python",
   "name": "python",
   "nbconvert_exporter": "python",
   "pygments_lexer": "ipython3",
   "version": "3.11.7"
  }
 },
 "nbformat": 4,
 "nbformat_minor": 5
}
